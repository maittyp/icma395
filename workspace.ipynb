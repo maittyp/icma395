{
 "cells": [
  {
   "cell_type": "markdown",
   "metadata": {},
   "source": [
    "# ICMA395 Project: Finding Magic Squares Using Heuristic Methods"
   ]
  },
  {
   "cell_type": "code",
   "execution_count": 1,
   "metadata": {
    "ExecuteTime": {
     "end_time": "2023-11-12T01:51:37.863254Z",
     "start_time": "2023-11-12T01:51:37.852493Z"
    }
   },
   "outputs": [],
   "source": [
    "import numpy as np\n",
    "import scipy as sp\n",
    "import pandas as pd\n",
    "import random\n",
    "import copy\n",
    "import math\n",
    "import seaborn as sns\n",
    "import matplotlib.pyplot as plt\n",
    "from collections import deque"
   ]
  },
  {
   "cell_type": "markdown",
   "metadata": {},
   "source": [
    "### 2-step process:\n",
    "\n",
    "1. Find a semi magic square\n",
    "2. Make moves that preserve row and column sums to find a full magic square\n",
    "\n",
    "### Perturbation methods:\n",
    "\n",
    "1. Swap random entries ('Naive')\n",
    "2. Swap two neighboring entries "
   ]
  },
  {
   "cell_type": "markdown",
   "metadata": {},
   "source": [
    "## Setup"
   ]
  },
  {
   "cell_type": "code",
   "execution_count": 2,
   "metadata": {
    "ExecuteTime": {
     "end_time": "2023-11-12T01:51:42.216469Z",
     "start_time": "2023-11-12T01:51:42.203442Z"
    }
   },
   "outputs": [],
   "source": [
    "def make_matrix(sol, order):\n",
    "    ans = [[] for _ in range(order)]\n",
    "    j = 0\n",
    "    for i in range(len(sol)):\n",
    "        ans[j].append(sol[i])\n",
    "        if (i+1)%order == 0:\n",
    "            j+=1\n",
    "    return ans\n",
    "\n",
    "def random_sol(order):\n",
    "    lst = [i+1 for i in range(order**2)]\n",
    "    random.shuffle(lst)\n",
    "    return lst\n",
    "\n",
    "def matrix_to_sol(matrix):\n",
    "    sol = []\n",
    "    for i in range(len(matrix)):\n",
    "        for j in range(len(matrix)):\n",
    "            sol.append(matrix[i][j])\n",
    "    return sol\n",
    "\n",
    "def cost1(sol, n):\n",
    "    S = int(n*(n**2 + 1)/2)\n",
    "    column_sums = np.sum(sol, axis=0)\n",
    "    row_sums = np.sum(sol, axis=1)\n",
    "    # diagonal_sums = np.array([np.trace(sol), np.trace(np.fliplr(sol))])\n",
    "    return np.sum(abs(S - column_sums)) + np.sum(abs(S-row_sums))\n",
    "\n",
    "def cost2(sol, n):\n",
    "    S = int(n*(n**2 + 1)/2)\n",
    "    return abs(S - np.trace(sol)) + abs(S - np.trace(np.fliplr(sol)))\n",
    "\n",
    "def cost(sol, n):\n",
    "    return cost1(sol, n) + cost2(sol, n)\n",
    "\n",
    "def adj_swap(sol, order):\n",
    "    new_sol = copy.deepcopy(sol)\n",
    "    i1 = random.randint(0, order-1)\n",
    "    j1 = random.randint(0, order-1)\n",
    "    temp = new_sol[i1][j1]\n",
    "    neighbors = ['left','right','above','below']\n",
    "    if i1 == 0:\n",
    "        neighbors.remove('above')\n",
    "    if i1 == order-1:\n",
    "        neighbors.remove('below')\n",
    "    if j1 == 0:\n",
    "        neighbors.remove('left')\n",
    "    if j1 == order-1:\n",
    "        neighbors.remove('right')\n",
    "    choice = random.choice(neighbors)\n",
    "    if choice == 'left':\n",
    "        new_sol[i1][j1] = new_sol[i1][j1-1]\n",
    "        new_sol[i1][j1-1] = temp\n",
    "    elif choice == 'right':\n",
    "        new_sol[i1][j1] = new_sol[i1][j1+1]\n",
    "        new_sol[i1][j1+1] = temp\n",
    "    elif choice == 'above':\n",
    "        new_sol[i1][j1] = new_sol[i1-1][j1]\n",
    "        new_sol[i1-1][j1] = temp\n",
    "    elif choice == 'below':\n",
    "        new_sol[i1][j1] = new_sol[i1+1][j1]\n",
    "        new_sol[i1+1][j1] = temp\n",
    "    return new_sol\n",
    "\n",
    "def gen_starting_states(order, n_trials):\n",
    "    return [random_sol(order) for _ in range(n_trials)]"
   ]
  },
  {
   "cell_type": "markdown",
   "metadata": {},
   "source": [
    "## Local Search"
   ]
  },
  {
   "cell_type": "code",
   "execution_count": 10,
   "metadata": {
    "ExecuteTime": {
     "end_time": "2023-11-12T01:51:45.035317Z",
     "start_time": "2023-11-12T01:51:45.025320Z"
    }
   },
   "outputs": [],
   "source": [
    "def naive_local_search(n_trials, n_iterations, order):\n",
    "    starting_sols = gen_starting_states(order, n_trials)\n",
    "    for trial in range(n_trials):\n",
    "        current_sol = starting_sols[trial]\n",
    "        current_cost = cost1(make_matrix(current_sol, order), order)\n",
    "        for i in range(n_iterations):\n",
    "            idx1 = random.randint(0, order**2-1)\n",
    "            idx2 = random.randrange(0, order**2-1)\n",
    "            new_sol = current_sol.copy()\n",
    "            temp = new_sol[idx1]\n",
    "            new_sol[idx1] = new_sol[idx2]\n",
    "            new_sol[idx2] = temp\n",
    "            new_cost = cost1(make_matrix(new_sol, order), order)\n",
    "            if new_cost < current_cost:\n",
    "                current_cost = new_cost\n",
    "                current_sol = new_sol\n",
    "    return current_sol\n",
    "\n",
    "def local_search(n_trials, n_iterations, order):\n",
    "    starting_sols = gen_starting_states(order, n_trials)\n",
    "    for trial in range(n_trials):\n",
    "        current_sol = make_matrix(starting_sols[trial], order)\n",
    "        current_cost = cost1(current_sol, order)\n",
    "        for i in range(n_iterations):\n",
    "            new_sol = adj_swap(current_sol, order)\n",
    "            new_cost = cost1(new_sol, order)\n",
    "            if new_cost < current_cost:\n",
    "                current_cost = new_cost\n",
    "                current_sol = new_sol\n",
    "    return current_sol"
   ]
  },
  {
   "cell_type": "markdown",
   "metadata": {},
   "source": [
    "### Usage"
   ]
  },
  {
   "cell_type": "code",
   "execution_count": 15,
   "metadata": {},
   "outputs": [
    {
     "data": {
      "text/plain": [
       "([[7, 1, 8], [5, 4, 6], [3, 9, 2]], 4)"
      ]
     },
     "execution_count": 15,
     "metadata": {},
     "output_type": "execute_result"
    }
   ],
   "source": [
    "n = 3\n",
    "sol = make_matrix(naive_local_search(1, 100, n), n)\n",
    "cost_val = cost1(sol, n)\n",
    "\n",
    "sol, cost_val"
   ]
  },
  {
   "cell_type": "markdown",
   "metadata": {},
   "source": [
    "## Simulated Annealing"
   ]
  },
  {
   "cell_type": "code",
   "execution_count": 22,
   "metadata": {
    "ExecuteTime": {
     "end_time": "2023-11-12T01:51:47.792942Z",
     "start_time": "2023-11-12T01:51:47.779048Z"
    }
   },
   "outputs": [],
   "source": [
    "def naive_sa(n_trials, alpha, n_iterations, order):\n",
    "    starting_sols = gen_starting_states(order, n_trials)\n",
    "    for trial in range(n_trials):\n",
    "        current_sol = starting_sols[trial]\n",
    "        current_cost = cost1(make_matrix(current_sol, order), order)\n",
    "        if order == 3:\n",
    "            T0 = 100\n",
    "        elif order == 4:\n",
    "            T0 = random.randint(100, 1000)\n",
    "        else: T0 = 1000\n",
    "        t = T0\n",
    "        i = 0\n",
    "        accepted = 0\n",
    "        total = 0\n",
    "        while t > 0 and i < n_iterations:\n",
    "            idx1 = random.randint(0, order**2-1)\n",
    "            idx2 = random.randrange(0, order**2-1)\n",
    "            new_sol = current_sol.copy()\n",
    "            temp = new_sol[idx1]\n",
    "            new_sol[idx1] = new_sol[idx2]\n",
    "            new_sol[idx2] = temp\n",
    "            new_cost = cost1(make_matrix(current_sol, order), order)\n",
    "            dy = new_cost - current_cost\n",
    "            if dy < 0:\n",
    "                current_sol = new_sol\n",
    "                current_cost = new_cost\n",
    "            else:\n",
    "                total += 1\n",
    "                if random.uniform(0, 1) < np.exp(-dy/t):\n",
    "                    accepted += 1\n",
    "                    current_sol = new_sol\n",
    "                    current_cost = new_cost\n",
    "            i = i+1\n",
    "            t = alpha*t\n",
    "    return current_sol\n",
    "\n",
    "def sa(n_trials, alpha, n_iterations, order):\n",
    "    starting_sols = gen_starting_states(order, n_trials)\n",
    "    for trial in range(n_trials):\n",
    "        current_sol = make_matrix(starting_sols[trial], order)\n",
    "        current_cost = cost1(current_sol, order)\n",
    "        if order == 3:\n",
    "            T0 = 100\n",
    "        elif order == 4:\n",
    "            T0 = random.randint(100, 1000)\n",
    "        else: T0 = 1000\n",
    "        t = T0\n",
    "        i = 0\n",
    "        while t > 0 and i < n_iterations:\n",
    "            new_sol = adj_swap(current_sol, order)\n",
    "            new_cost = cost1(new_sol, order)\n",
    "            dy = new_cost - current_cost\n",
    "            if dy < 0:\n",
    "                current_sol = new_sol\n",
    "            else:\n",
    "                if random.uniform(0, 1) < np.exp(-dy/t):\n",
    "                    current_sol = new_sol\n",
    "            t = alpha*t\n",
    "            i += 1\n",
    "    return current_sol"
   ]
  },
  {
   "cell_type": "markdown",
   "metadata": {},
   "source": [
    "### Usage"
   ]
  },
  {
   "cell_type": "code",
   "execution_count": 23,
   "metadata": {},
   "outputs": [
    {
     "data": {
      "text/plain": [
       "([[4, 8, 1], [5, 7, 3], [2, 6, 9]], 16)"
      ]
     },
     "execution_count": 23,
     "metadata": {},
     "output_type": "execute_result"
    }
   ],
   "source": [
    "n = 3\n",
    "sol = make_matrix(naive_sa(1, 0.95, 100, n), n)\n",
    "cost_val = cost1(sol, n)\n",
    "\n",
    "sol, cost_val"
   ]
  },
  {
   "cell_type": "markdown",
   "metadata": {},
   "source": [
    "## Tabu Search"
   ]
  },
  {
   "cell_type": "code",
   "execution_count": 26,
   "metadata": {},
   "outputs": [],
   "source": [
    "def naive_tabu(n_trials, k, V, n_iterations, order):\n",
    "    starting_sols = gen_starting_states(order, n_trials)\n",
    "    for trial in range(n_trials):\n",
    "        current_sol = starting_sols[trial]\n",
    "        tabu_list = deque()\n",
    "        freq = dict()\n",
    "        global_best = float('inf')\n",
    "        global_best_sol = current_sol\n",
    "        for i in range(n_iterations):\n",
    "            neighbors = []\n",
    "            for j in range(V):\n",
    "                idx1 = random.randint(0, order**2-1)\n",
    "                idx2 = random.randrange(0, order**2-1)\n",
    "                while idx1 == idx2:\n",
    "                    idx2 = random.randrange(0, order**2-1)\n",
    "                pair = [idx1, idx2]\n",
    "                pair.sort()\n",
    "                pair = tuple(pair)\n",
    "                neighbor = current_sol.copy()\n",
    "                temp = neighbor[idx1]\n",
    "                neighbor[idx1] = neighbor[idx2]\n",
    "                neighbor[idx2] = temp\n",
    "                tabu = False\n",
    "                if pair in tabu_list:\n",
    "                    tabu = True\n",
    "                if pair not in freq.keys():\n",
    "                    freq[pair] = 0\n",
    "                new_cost = cost1(make_matrix(neighbor, order), order)\n",
    "                neighbor_matrix = make_matrix(neighbor, order)\n",
    "                if (i+1)%30 == 0 and new_cost > cost1(make_matrix(current_sol, order), order):\n",
    "                    new_cost += 5*freq[pair]\n",
    "                neighbors.append((neighbor_matrix, pair, tabu, new_cost))\n",
    "            neighbors.sort(key=lambda a: a[3])\n",
    "            idx = 0\n",
    "            all_tabu = False\n",
    "            while neighbors[idx][2]:\n",
    "                if neighbors[idx][3] < global_best:\n",
    "                    break\n",
    "                elif idx < V - 1:\n",
    "                    idx += 1\n",
    "                elif idx == V - 1:\n",
    "                    all_tabu = True\n",
    "                    break\n",
    "            if not all_tabu:\n",
    "                curr = neighbors[idx][0]\n",
    "                attribute = neighbors[idx][1]\n",
    "                tabu_list.append(attribute)\n",
    "                freq[attribute] += 1\n",
    "                if len(tabu_list) > k:\n",
    "                    tabu_list.popleft()\n",
    "                local_best = neighbors[idx][3]\n",
    "                if local_best < global_best:\n",
    "                    global_best = local_best\n",
    "                    global_best_sol = curr\n",
    "    return global_best_sol"
   ]
  },
  {
   "cell_type": "markdown",
   "metadata": {},
   "source": [
    "### Usage"
   ]
  },
  {
   "cell_type": "code",
   "execution_count": 33,
   "metadata": {},
   "outputs": [
    {
     "data": {
      "text/plain": [
       "([[3, 9, 5], [6, 4, 2], [8, 1, 7]], 10)"
      ]
     },
     "execution_count": 33,
     "metadata": {},
     "output_type": "execute_result"
    }
   ],
   "source": [
    "n = 3\n",
    "sol = naive_tabu(1, 4, 10, 100, n)\n",
    "cost_val = cost1(sol, n)\n",
    "\n",
    "sol, cost_val"
   ]
  },
  {
   "cell_type": "markdown",
   "metadata": {},
   "source": [
    "## Genetic Algorithm"
   ]
  },
  {
   "cell_type": "markdown",
   "metadata": {},
   "source": [
    "### Crossover methods"
   ]
  },
  {
   "cell_type": "code",
   "execution_count": 34,
   "metadata": {
    "ExecuteTime": {
     "end_time": "2023-11-12T01:51:50.498295Z",
     "start_time": "2023-11-12T01:51:50.496405Z"
    }
   },
   "outputs": [],
   "source": [
    "def pmx(p1, p2, idx):\n",
    "    left = []\n",
    "    right = p2[idx:]\n",
    "    for char in p1[0: idx]:\n",
    "        if char in right:\n",
    "            mapping = p1[np.where(np.array(p2) == char)[0][0]]\n",
    "            while mapping in right:\n",
    "                mapping = p1[np.where(np.array(p2) == mapping)[0][0]]\n",
    "            left.append(mapping)\n",
    "        else:\n",
    "            left.append(char)\n",
    "    return left + right\n",
    "\n",
    "def ox(p1, p2, idx):\n",
    "    left = p1[0: idx]\n",
    "    right = ''\n",
    "    for char in p2:\n",
    "        if char not in left:\n",
    "            right += char\n",
    "    return left + right\n",
    "\n",
    "def cx(p1, p2):\n",
    "    size = len(p1)\n",
    "    child = [''] * size\n",
    "    cycle = []\n",
    "    while '' in child:\n",
    "        cycle_start = child.index('')\n",
    "        index = cycle_start\n",
    "        new_cycle = []\n",
    "        while True:\n",
    "            new_cycle.append(index)\n",
    "            index = p2.index(p1[index])\n",
    "            if index == cycle_start:\n",
    "                break\n",
    "        if len(cycle) % 2 == 0:\n",
    "            for i in new_cycle:\n",
    "                child[i] = p1[i]\n",
    "        else:\n",
    "            for i in new_cycle:\n",
    "                child[i] = p2[i]\n",
    "        cycle.extend(new_cycle)\n",
    "    return ''.join(child)\n",
    "\n",
    "def mutate(child, idx1, idx2):\n",
    "    temp = child[idx1]\n",
    "    child[idx1] = child[idx2]\n",
    "    child[idx2] = temp\n",
    "    return child"
   ]
  },
  {
   "cell_type": "markdown",
   "metadata": {},
   "source": [
    "### Algorithm"
   ]
  },
  {
   "cell_type": "code",
   "execution_count": 80,
   "metadata": {
    "ExecuteTime": {
     "end_time": "2023-11-12T01:52:27.501581Z",
     "start_time": "2023-11-12T01:52:27.498059Z"
    }
   },
   "outputs": [],
   "source": [
    "def ga(starting_gen, n_gens, pop_size, p_cross, p_mutate, order):\n",
    "    current_gen = starting_gen\n",
    "    for gen in range(n_gens):\n",
    "        new_gen = []\n",
    "        current_gen.sort(key=lambda x: 1/(1+cost(make_matrix(x, order), order)))\n",
    "        fitness_list = [1/(1+cost(make_matrix(ind, order), order)) for ind in current_gen]\n",
    "        new_gen.append(current_gen[-1])\n",
    "        best_fitness = max(fitness_list)\n",
    "        average_fitness = np.mean(fitness_list)\n",
    "        children = []\n",
    "        while len(children) < pop_size:\n",
    "            temp_fitness_list = fitness_list.copy()\n",
    "            running_total = [sum(temp_fitness_list[0:i+1]) for i in range(len(temp_fitness_list))]\n",
    "            temp_current_gen = current_gen.copy()\n",
    "            num1 = random.uniform(0, sum(fitness_list))\n",
    "            for i in range(len(temp_fitness_list)):\n",
    "                if running_total[i] >= num1:\n",
    "                    parent1 = temp_current_gen.pop(i)\n",
    "                    temp_fitness_list.pop(i)\n",
    "                    break\n",
    "            running_total = [sum(temp_fitness_list[0:i+1]) for i in range(len(temp_fitness_list))]\n",
    "            num2 = random.uniform(0, sum(temp_fitness_list))\n",
    "            for i in range(len(temp_fitness_list)):\n",
    "                if running_total[i] >= num2:\n",
    "                    parent2 = temp_current_gen.pop(i)\n",
    "                    temp_fitness_list.pop(i)\n",
    "                    break\n",
    "            idx = random.randint(1, order**2 - 2)\n",
    "            cross = random.uniform(0, 1)\n",
    "            if cross <= p_cross:\n",
    "                choice = random.uniform(0, 1)\n",
    "                if choice <= 0.5:\n",
    "                    child1 = pmx(parent1, parent2, idx)\n",
    "                    children.append(child1)\n",
    "                else:\n",
    "                    child1 = pmx(parent2, parent1, idx)\n",
    "                    children.append(child1)\n",
    "            for child in children:\n",
    "                m = random.uniform(0, 1)\n",
    "                if m <= p_mutate:\n",
    "                    idx1 = random.randint(0, len(child)-1)\n",
    "                    idx2 = random.randint(0, len(child)-1)\n",
    "                    child = mutate(child, idx1, idx2)\n",
    "            candidates = current_gen + children\n",
    "            candidates.sort(key=lambda x: 1/(1+cost(make_matrix(x, order), order)), reverse=True)\n",
    "            i=0\n",
    "            while len(new_gen) < pop_size:\n",
    "                new_gen.append(candidates[i])\n",
    "                i = i + 1\n",
    "            current_gen = new_gen\n",
    "    return current_gen"
   ]
  },
  {
   "cell_type": "markdown",
   "metadata": {},
   "source": [
    "### Semi-magic -> Magic"
   ]
  },
  {
   "cell_type": "code",
   "execution_count": 39,
   "metadata": {},
   "outputs": [],
   "source": [
    "def get_semi_magic(n_trials, n_iterations, order):\n",
    "    starting_sols = gen_starting_states(order, n_trials)\n",
    "    semi_magic = []\n",
    "    for trial in range(n_trials):\n",
    "        current_sol = starting_sols[trial]\n",
    "        current_cost = cost(make_matrix(current_sol, order), order)\n",
    "        for i in range(n_iterations):\n",
    "            idx1 = random.randint(0, order**2-1)\n",
    "            idx2 = random.randrange(0, order**2-1)\n",
    "            new_sol = current_sol.copy()\n",
    "            temp = new_sol[idx1]\n",
    "            new_sol[idx1] = new_sol[idx2]\n",
    "            new_sol[idx2] = temp\n",
    "            new_cost = cost1(make_matrix(new_sol, order), order)\n",
    "            if new_cost < current_cost:\n",
    "                current_cost = new_cost\n",
    "                current_sol = new_sol\n",
    "            if current_cost == 0:\n",
    "                semi_magic.append(current_sol)\n",
    "                break\n",
    "    return semi_magic"
   ]
  },
  {
   "cell_type": "code",
   "execution_count": 45,
   "metadata": {},
   "outputs": [],
   "source": [
    "semi_magic_3 = get_semi_magic(100, 10000, 3)\n",
    "semi_magic_4 = get_semi_magic(100, 10000, 4)\n",
    "semi_magic_5 = get_semi_magic(100, 10000, 5)\n",
    "semi_magic_6 = get_semi_magic(100, 10000, 6)\n",
    "semi_magic_7 = get_semi_magic(100, 10000, 7)\n",
    "semi_magic_8 = get_semi_magic(100, 10000, 8)\n",
    "semi_magic_9 = get_semi_magic(100, 10000, 9)"
   ]
  }
 ],
 "metadata": {
  "kernelspec": {
   "display_name": "Python 3",
   "language": "python",
   "name": "python3"
  },
  "language_info": {
   "codemirror_mode": {
    "name": "ipython",
    "version": 3
   },
   "file_extension": ".py",
   "mimetype": "text/x-python",
   "name": "python",
   "nbconvert_exporter": "python",
   "pygments_lexer": "ipython3",
   "version": "3.12.0"
  }
 },
 "nbformat": 4,
 "nbformat_minor": 2
}
